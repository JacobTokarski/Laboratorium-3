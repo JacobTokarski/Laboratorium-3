{
  "nbformat": 4,
  "nbformat_minor": 0,
  "metadata": {
    "colab": {
      "provenance": [],
      "authorship_tag": "ABX9TyNc7gFKW2uOmqUXS7k8300R",
      "include_colab_link": true
    },
    "kernelspec": {
      "name": "python3",
      "display_name": "Python 3"
    },
    "language_info": {
      "name": "python"
    }
  },
  "cells": [
    {
      "cell_type": "markdown",
      "metadata": {
        "id": "view-in-github",
        "colab_type": "text"
      },
      "source": [
        "<a href=\"https://colab.research.google.com/github/JacobTokarski/Laboratorium-3/blob/main/Untitled2.ipynb\" target=\"_parent\"><img src=\"https://colab.research.google.com/assets/colab-badge.svg\" alt=\"Open In Colab\"/></a>"
      ]
    },
    {
      "cell_type": "markdown",
      "source": [
        "Zadanie 1 z listy3_przedziały_ufności\n",
        "\n",
        "  Polecenie\n",
        "\n",
        "W pewnym doświadczeniu medycznym bada si,\n",
        "e czas snu pacjentow leczonych na pewn ,a chorob,\n",
        "e. Zmierzono czas snu u n = 16 wylosowanych niezale˙znie pacjent´ow i otrzymano nast,\n",
        "epuj ,\n",
        "ace wyniki ( w minutach):\n",
        "435, 533, 393, 458, 525, 481, 324, 437, 348, 503, 383, 395, 416, 533, 500, 488. Przyjmuj ,\n",
        "ac, ˙ze czas snu ma rozk lad N(µ, 70), oszacowa´c ´sredni µ czasu snu pacjent´ow przyj ,\n",
        "ac wsp´o lczynnik ufno´sci 0.99.\n",
        "\n",
        "\n"
      ],
      "metadata": {
        "id": "eNiPg6JRyWw9"
      }
    },
    {
      "cell_type": "code",
      "source": [
        "import numpy as np\n",
        "import pandas as pd\n",
        "import scipy as sc\n",
        "import scipy.stats as stats"
      ],
      "metadata": {
        "id": "ML33oAajxyLH"
      },
      "execution_count": 3,
      "outputs": []
    },
    {
      "cell_type": "code",
      "source": [
        "qnorm=sc.stats.norm.pdf"
      ],
      "metadata": {
        "colab": {
          "base_uri": "https://localhost:8080/",
          "height": 141
        },
        "id": "P1RkZrmjzRSJ",
        "outputId": "dff457ab-7485-4b45-fe1e-93b9740d0d7a"
      },
      "execution_count": 32,
      "outputs": [
        {
          "output_type": "error",
          "ename": "NameError",
          "evalue": "name 'sc' is not defined",
          "traceback": [
            "\u001b[0;31m---------------------------------------------------------------------------\u001b[0m",
            "\u001b[0;31mNameError\u001b[0m                                 Traceback (most recent call last)",
            "\u001b[0;32m<ipython-input-32-55ee530a0ec1>\u001b[0m in \u001b[0;36m<cell line: 1>\u001b[0;34m()\u001b[0m\n\u001b[0;32m----> 1\u001b[0;31m \u001b[0mqnorm\u001b[0m\u001b[0;34m=\u001b[0m\u001b[0msc\u001b[0m\u001b[0;34m.\u001b[0m\u001b[0mstats\u001b[0m\u001b[0;34m.\u001b[0m\u001b[0mnorm\u001b[0m\u001b[0;34m.\u001b[0m\u001b[0mpdf\u001b[0m\u001b[0;34m\u001b[0m\u001b[0;34m\u001b[0m\u001b[0m\n\u001b[0m",
            "\u001b[0;31mNameError\u001b[0m: name 'sc' is not defined"
          ]
        }
      ]
    },
    {
      "cell_type": "code",
      "source": [
        "dane=pd.Series([435, 533, 393, 458, 525, 481, 324, 437, 348, 503, 383, 395, 416, 533, 500, 488])"
      ],
      "metadata": {
        "id": "GOJCWuhXzY2n"
      },
      "execution_count": 6,
      "outputs": []
    },
    {
      "cell_type": "code",
      "source": [
        "dane.describe()"
      ],
      "metadata": {
        "colab": {
          "base_uri": "https://localhost:8080/",
          "height": 335
        },
        "id": "lZUKDKF7zpY1",
        "outputId": "0e4f7a1d-c9ed-4ed4-d068-8d33c999671d"
      },
      "execution_count": 7,
      "outputs": [
        {
          "output_type": "execute_result",
          "data": {
            "text/plain": [
              "count     16.000000\n",
              "mean     447.000000\n",
              "std       66.146302\n",
              "min      324.000000\n",
              "25%      394.500000\n",
              "50%      447.500000\n",
              "75%      500.750000\n",
              "max      533.000000\n",
              "dtype: float64"
            ],
            "text/html": [
              "<div>\n",
              "<style scoped>\n",
              "    .dataframe tbody tr th:only-of-type {\n",
              "        vertical-align: middle;\n",
              "    }\n",
              "\n",
              "    .dataframe tbody tr th {\n",
              "        vertical-align: top;\n",
              "    }\n",
              "\n",
              "    .dataframe thead th {\n",
              "        text-align: right;\n",
              "    }\n",
              "</style>\n",
              "<table border=\"1\" class=\"dataframe\">\n",
              "  <thead>\n",
              "    <tr style=\"text-align: right;\">\n",
              "      <th></th>\n",
              "      <th>0</th>\n",
              "    </tr>\n",
              "  </thead>\n",
              "  <tbody>\n",
              "    <tr>\n",
              "      <th>count</th>\n",
              "      <td>16.000000</td>\n",
              "    </tr>\n",
              "    <tr>\n",
              "      <th>mean</th>\n",
              "      <td>447.000000</td>\n",
              "    </tr>\n",
              "    <tr>\n",
              "      <th>std</th>\n",
              "      <td>66.146302</td>\n",
              "    </tr>\n",
              "    <tr>\n",
              "      <th>min</th>\n",
              "      <td>324.000000</td>\n",
              "    </tr>\n",
              "    <tr>\n",
              "      <th>25%</th>\n",
              "      <td>394.500000</td>\n",
              "    </tr>\n",
              "    <tr>\n",
              "      <th>50%</th>\n",
              "      <td>447.500000</td>\n",
              "    </tr>\n",
              "    <tr>\n",
              "      <th>75%</th>\n",
              "      <td>500.750000</td>\n",
              "    </tr>\n",
              "    <tr>\n",
              "      <th>max</th>\n",
              "      <td>533.000000</td>\n",
              "    </tr>\n",
              "  </tbody>\n",
              "</table>\n",
              "</div><br><label><b>dtype:</b> float64</label>"
            ]
          },
          "metadata": {},
          "execution_count": 7
        }
      ]
    },
    {
      "cell_type": "code",
      "source": [
        "sigma=70\n",
        "alfa=0.005\n",
        "X=dane.mean()\n",
        "n=len(dane)\n",
        "a_alfa=qnorm(1-alfa)\n",
        "half=a_alfa*sigma/np.sqrt(n)\n",
        "left=X-half\n",
        "right=X+half\n",
        "wynik=np.array([left, right])\n",
        "wynik\n",
        "\n"
      ],
      "metadata": {
        "colab": {
          "base_uri": "https://localhost:8080/"
        },
        "id": "S1kWqYlZ0fiJ",
        "outputId": "5390ad61-d8d0-44db-c05f-375533a2093c"
      },
      "execution_count": 10,
      "outputs": [
        {
          "output_type": "execute_result",
          "data": {
            "text/plain": [
              "array([442.74434006, 451.25565994])"
            ]
          },
          "metadata": {},
          "execution_count": 10
        }
      ]
    },
    {
      "cell_type": "markdown",
      "source": [
        "Zadanie 2\n",
        "  Polecenie\n",
        "\n",
        "  Nale˙zy oszacowa´c ˙zywotno´s´c wyprodukowanej partii ´swietl´owek.\n",
        "Wiadomo, ˙ze czas ´swiecenia ´swietl´owek ma rozk lad normalny z odchyleniem\n",
        "standardowym σ = 120 godzin. Wylosowano niezale˙znie z tej partii towaru\n",
        "n = 25 ´swietl´owek, otrzymano w ten spos´ob nast,\n",
        "epuj ,\n",
        "ace wyniki (pomiary\n",
        "czasu ´swiecenia w godzinach): 2630, 2820, 2900, 2810, 2770, 2840, 2700, 2950,\n",
        "2690, 2720, 2800, 2970, 2680, 2660, 2820, 2580, 2840, 3020, 2780, 2920, 3060,\n",
        "2840, 2550, 2790, 2850. Przyjmuj ,\n",
        "ac wsp´o lczynnik ufno´sci 0.98 znale´z´c przedzia l ufno´sci dla ´sredniej."
      ],
      "metadata": {
        "id": "YRAsGjOW2WHd"
      }
    },
    {
      "cell_type": "code",
      "source": [
        "# prompt: Nale˙zy oszacowa´c ˙zywotno´s´c wyprodukowanej partii ´swietl´owek.\n",
        "# Wiadomo, ˙ze czas ´swiecenia ´swietl´owek ma rozk lad normalny z odchyleniem\n",
        "# standardowym σ = 120 godzin. Wylosowano niezale˙znie z tej partii towaru\n",
        "# n = 25 ´swietl´owek, otrzymano w ten spos´ob nast,\n",
        "# epuj ,\n",
        "# ace wyniki (pomiary\n",
        "# czasu ´swiecenia w godzinach): 2630, 2820, 2900, 2810, 2770, 2840, 2700, 2950,\n",
        "# 2690, 2720, 2800, 2970, 2680, 2660, 2820, 2580, 2840, 3020, 2780, 2920, 3060,\n",
        "# 2840, 2550, 2790, 2850. Przyjmuj ,\n",
        "# ac wsp´o lczynnik ufno´sci 0.98 znale´z´c przedzia l ufno´sci dla ´sredniej.\n",
        "\n",
        "import numpy as np\n",
        "import scipy.stats as stats\n",
        "\n",
        "# Dane\n",
        "dane = [2630, 2820, 2900, 2810, 2770, 2840, 2700, 2950,\n",
        "        2690, 2720, 2800, 2970, 2680, 2660, 2820, 2580,\n",
        "        2840, 3020, 2780, 2920, 3060, 2840, 2550, 2790, 2850]\n",
        "\n",
        "# Parametry\n",
        "sigma = 120\n",
        "n = len(dane)\n",
        "confidence_level = 0.98\n",
        "alpha = 1 - confidence_level\n",
        "\n",
        "# Średnia z próby\n",
        "x_bar = np.mean(dane)\n",
        "\n",
        "# Kwantyl rozkładu normalnego\n",
        "z_alpha_2 = stats.norm.ppf(1 - alpha / 2)\n",
        "\n",
        "# Błąd standardowy\n",
        "standard_error = sigma / np.sqrt(n)\n",
        "\n",
        "# Granice przedziału ufności\n",
        "lower_bound = x_bar - z_alpha_2 * standard_error\n",
        "upper_bound = x_bar + z_alpha_2 * standard_error\n",
        "\n",
        "# Wynik\n",
        "print(f\"Przedział ufności dla średniej: [{lower_bound:.2f}, {upper_bound:.2f}]\")"
      ],
      "metadata": {
        "colab": {
          "base_uri": "https://localhost:8080/"
        },
        "id": "3TMRlWIE2RN7",
        "outputId": "48730fa5-d3f1-466e-9297-7ebe4bc9ab22"
      },
      "execution_count": 11,
      "outputs": [
        {
          "output_type": "stream",
          "name": "stdout",
          "text": [
            "Przedział ufności dla średniej: [2743.77, 2855.43]\n"
          ]
        }
      ]
    },
    {
      "cell_type": "code",
      "source": [
        "dane1=pd.Series([2630, 2820, 2900, 2810, 2770, 2840, 2700, 2950,\n",
        "        2690, 2720, 2800, 2970, 2680, 2660, 2820, 2580,\n",
        "        2840, 3020, 2780, 2920, 3060, 2840, 2550, 2790, 2850])\n"
      ],
      "metadata": {
        "id": "LC8iNAoQ38We"
      },
      "execution_count": 21,
      "outputs": []
    },
    {
      "cell_type": "code",
      "source": [
        "dane1.describe()"
      ],
      "metadata": {
        "colab": {
          "base_uri": "https://localhost:8080/",
          "height": 335
        },
        "id": "n9YbAuLf5bkU",
        "outputId": "e30523bf-c326-4baf-aa99-410930e2d3e1"
      },
      "execution_count": 22,
      "outputs": [
        {
          "output_type": "execute_result",
          "data": {
            "text/plain": [
              "count      25.000000\n",
              "mean     2799.600000\n",
              "std       129.694513\n",
              "min      2550.000000\n",
              "25%      2700.000000\n",
              "50%      2810.000000\n",
              "75%      2850.000000\n",
              "max      3060.000000\n",
              "dtype: float64"
            ],
            "text/html": [
              "<div>\n",
              "<style scoped>\n",
              "    .dataframe tbody tr th:only-of-type {\n",
              "        vertical-align: middle;\n",
              "    }\n",
              "\n",
              "    .dataframe tbody tr th {\n",
              "        vertical-align: top;\n",
              "    }\n",
              "\n",
              "    .dataframe thead th {\n",
              "        text-align: right;\n",
              "    }\n",
              "</style>\n",
              "<table border=\"1\" class=\"dataframe\">\n",
              "  <thead>\n",
              "    <tr style=\"text-align: right;\">\n",
              "      <th></th>\n",
              "      <th>0</th>\n",
              "    </tr>\n",
              "  </thead>\n",
              "  <tbody>\n",
              "    <tr>\n",
              "      <th>count</th>\n",
              "      <td>25.000000</td>\n",
              "    </tr>\n",
              "    <tr>\n",
              "      <th>mean</th>\n",
              "      <td>2799.600000</td>\n",
              "    </tr>\n",
              "    <tr>\n",
              "      <th>std</th>\n",
              "      <td>129.694513</td>\n",
              "    </tr>\n",
              "    <tr>\n",
              "      <th>min</th>\n",
              "      <td>2550.000000</td>\n",
              "    </tr>\n",
              "    <tr>\n",
              "      <th>25%</th>\n",
              "      <td>2700.000000</td>\n",
              "    </tr>\n",
              "    <tr>\n",
              "      <th>50%</th>\n",
              "      <td>2810.000000</td>\n",
              "    </tr>\n",
              "    <tr>\n",
              "      <th>75%</th>\n",
              "      <td>2850.000000</td>\n",
              "    </tr>\n",
              "    <tr>\n",
              "      <th>max</th>\n",
              "      <td>3060.000000</td>\n",
              "    </tr>\n",
              "  </tbody>\n",
              "</table>\n",
              "</div><br><label><b>dtype:</b> float64</label>"
            ]
          },
          "metadata": {},
          "execution_count": 22
        }
      ]
    },
    {
      "cell_type": "code",
      "source": [
        "sigma = 120\n",
        "alpha = 0.01\n",
        "X=dane1.mean()\n",
        "n=len(dane1)\n",
        "a_alfa=qnorm(1-alpha)\n",
        "half=a_alfa*sigma/np.sqrt(n)\n",
        "left=X-half\n",
        "right=X+half\n",
        "wynik=np.array([left, right])\n",
        "wynik"
      ],
      "metadata": {
        "colab": {
          "base_uri": "https://localhost:8080/"
        },
        "id": "Y5VC2yj15jtV",
        "outputId": "6f2c4804-7f5a-44fb-f704-d66390b69530"
      },
      "execution_count": 23,
      "outputs": [
        {
          "output_type": "execute_result",
          "data": {
            "text/plain": [
              "array([2793.73463158, 2805.46536842])"
            ]
          },
          "metadata": {},
          "execution_count": 23
        }
      ]
    },
    {
      "cell_type": "markdown",
      "source": [
        "Zadanie 3\n",
        "  Polecenie jest w pdfie , mamy zrobione zdjęcie w telefonie zaczyna się od sigma=13\n"
      ],
      "metadata": {
        "id": "DaE7qWea5sHh"
      }
    },
    {
      "cell_type": "markdown",
      "source": [
        "Zadanie 4 Polecenie jest w pdfie , mamy zrobione zdjęcie w telefonie zaczyna się od dane2.pdSeries i wartości 4.33 itd"
      ],
      "metadata": {
        "id": "Q0q34p2m6Qfb"
      }
    },
    {
      "cell_type": "code",
      "source": [
        "# prompt: Dokonano n = 4 niezale˙zne pomiary g l ,\n",
        "# eboko´sci oceanu w pewnym regionie i uzyskano nastepuj ,\n",
        "# ace wyniki: 4.33, 4.58, 4.47, 4.50 Wyznaczy´c\n",
        "# przedzia l ufno´sci dla szacowanej ´sredniej g l ,\n",
        "# eboko´sci oceanu w tym rejonie,\n",
        "# przyjmuj ,\n",
        "# ac wsp´o lczynnik ufno´sci 0.99.\n",
        "\n",
        "import numpy as np\n",
        "import scipy.stats as stats\n",
        "\n",
        "# Dane z pomiarów głębokości oceanu\n",
        "dane = np.array([4.33, 4.58, 4.47, 4.50])\n",
        "\n",
        "# Liczba pomiarów\n",
        "n = len(dane)\n",
        "\n",
        "# Średnia z próby\n",
        "x_bar = np.mean(dane)\n",
        "\n",
        "# Odchylenie standardowe z próby (zakładamy, że nie znamy odchylenia populacji)\n",
        "s = np.std(dane, ddof=1)  # ddof=1 dla estymatora nieobciążonego\n",
        "\n",
        "# Współczynnik ufności\n",
        "confidence_level = 0.99\n",
        "alpha = 1 - confidence_level\n",
        "\n",
        "# Kwantyl rozkładu t-Studenta\n",
        "t_alpha_2 = stats.t.ppf(1 - alpha / 2, df=n - 1)\n",
        "\n",
        "# Błąd standardowy\n",
        "standard_error = s / np.sqrt(n)\n",
        "\n",
        "# Granice przedziału ufności\n",
        "lower_bound = x_bar - t_alpha_2 * standard_error\n",
        "upper_bound = x_bar + t_alpha_2 * standard_error\n",
        "\n",
        "# Wynik\n",
        "print(f\"Przedział ufności dla średniej głębokości oceanu: [{lower_bound:.3f}, {upper_bound:.3f}]\")"
      ],
      "metadata": {
        "colab": {
          "base_uri": "https://localhost:8080/"
        },
        "id": "VkBMIrLC5tRJ",
        "outputId": "23cd5fce-81af-490f-b198-f88e82fb682a"
      },
      "execution_count": 24,
      "outputs": [
        {
          "output_type": "stream",
          "name": "stdout",
          "text": [
            "Przedział ufności dla średniej głębokości oceanu: [4.166, 4.774]\n"
          ]
        }
      ]
    },
    {
      "cell_type": "markdown",
      "source": [
        "Zadanie 5 - polecenie znajduje się w pdfie , poprosić o zdjęcie"
      ],
      "metadata": {
        "id": "1s2c9I5n95w0"
      }
    },
    {
      "cell_type": "markdown",
      "source": [
        "Zadanie 6 - polecenie znajduje się w pdfie , mamy zrobione zdjęcie w telefonie zaczyna sie od n = 900"
      ],
      "metadata": {
        "id": "4kdi0yyvBlW-"
      }
    },
    {
      "cell_type": "markdown",
      "source": [
        "Zadanie 7 - polecenie znajduje się w pdfie , poprosić o zdjęcie"
      ],
      "metadata": {
        "id": "UuiO4OYhC0ax"
      }
    },
    {
      "cell_type": "markdown",
      "source": [
        "Zadanie 8 - polecenie znajduje się w pdife , poprosić o zdjęcie"
      ],
      "metadata": {
        "id": "LuVPeav9C6YI"
      }
    },
    {
      "cell_type": "code",
      "source": [
        "# prompt: Spo´sr´od ˙zar´owek wykonanych przez pewn,\n",
        "# e fabryk ,\n",
        "# e wylosowano\n",
        "# niezale˙znie n = 100 sztuk i sprawdzono ich jako´s´c. 16 ˙zar´owek okaza lo si,\n",
        "# e\n",
        "# z lych. Przyjmuj ,\n",
        "# ac wsp´o lczynnik ufno´sci 0.99 oszacowa´c procent brak´ow w\n",
        "# wyprodukowanej partii ˙zar´owek.\n",
        "\n",
        "import numpy as np\n",
        "import scipy.stats as stats\n",
        "\n",
        "# Dane\n",
        "n = 100\n",
        "x = 16\n",
        "\n",
        "# Estymator proporcji wadliwych żarówek\n",
        "p_hat = x / n\n",
        "\n",
        "# Współczynnik ufności\n",
        "confidence_level = 0.99\n",
        "alpha = 1 - confidence_level\n",
        "\n",
        "# Kwantyl rozkładu normalnego\n",
        "z_alpha_2 = stats.norm.ppf(1 - alpha / 2)\n",
        "\n",
        "# Błąd standardowy\n",
        "standard_error = np.sqrt(p_hat * (1 - p_hat) / n)\n",
        "\n",
        "# Granice przedziału ufności\n",
        "lower_bound = p_hat - z_alpha_2 * standard_error\n",
        "upper_bound = p_hat + z_alpha_2 * standard_error\n",
        "\n",
        "# Wynik\n",
        "print(f\"Przedział ufności dla procentu braków: [{lower_bound:.4f}, {upper_bound:.4f}]\")"
      ],
      "metadata": {
        "colab": {
          "base_uri": "https://localhost:8080/"
        },
        "id": "A_ELsAHtBsWk",
        "outputId": "64fa3663-2e93-4cb6-e5a9-280c00006934"
      },
      "execution_count": 33,
      "outputs": [
        {
          "output_type": "stream",
          "name": "stdout",
          "text": [
            "Przedział ufności dla procentu braków: [0.0656, 0.2544]\n"
          ]
        }
      ]
    }
  ]
}